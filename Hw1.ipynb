{
  "nbformat": 4,
  "nbformat_minor": 0,
  "metadata": {
    "colab": {
      "provenance": []
    },
    "kernelspec": {
      "name": "python3",
      "display_name": "Python 3"
    },
    "language_info": {
      "name": "python"
    }
  },
  "cells": [
    {
      "cell_type": "code",
      "source": [
        "import numpy as np\n",
        "\n",
        "#Одновимірний масив з першими 10 натуральними числами:\n",
        "array1 = np.arange(1, 11)\n",
        "print(\"Одновимірний масив з першими 10 натуральними числами:\")\n",
        "print(array1)\n"
      ],
      "metadata": {
        "id": "RAUjAaNi1FUF",
        "colab": {
          "base_uri": "https://localhost:8080/"
        },
        "outputId": "3459929e-1849-4044-8781-e5edc2efee06"
      },
      "execution_count": 30,
      "outputs": [
        {
          "output_type": "stream",
          "name": "stdout",
          "text": [
            "Одновимірний масив з першими 10 натуральними числами:\n",
            "[ 1  2  3  4  5  6  7  8  9 10]\n"
          ]
        }
      ]
    },
    {
      "cell_type": "code",
      "source": [
        "#Двовимірний масив розміром 3x3 з нулями:\n",
        "array2 = np.zeros((3, 3))\n",
        "print(\"\\nДвовимірний масив розміром 3x3 з нулями:\")\n",
        "print(array2)\n"
      ],
      "metadata": {
        "id": "UDd8MSGn1QSb",
        "colab": {
          "base_uri": "https://localhost:8080/"
        },
        "outputId": "64ec30ab-42ca-4441-db1c-41c89577d1b7"
      },
      "execution_count": 23,
      "outputs": [
        {
          "output_type": "stream",
          "name": "stdout",
          "text": [
            "\n",
            "Двовимірний масив розміром 3x3 з нулями:\n",
            "[[0. 0. 0.]\n",
            " [0. 0. 0.]\n",
            " [0. 0. 0.]]\n"
          ]
        }
      ]
    },
    {
      "cell_type": "code",
      "source": [
        "#Масив розміром 5x5 з випадковими цілими числами від 1 до 10:\n",
        "array3 = np.random.randint(1, 11, size=(5, 5))\n",
        "print(\"\\nМасив розміром 5x5 з випадковими цілими числами від 1 до 10:\")\n",
        "print(array3)"
      ],
      "metadata": {
        "id": "Dnv-rQed1TiV",
        "colab": {
          "base_uri": "https://localhost:8080/"
        },
        "outputId": "3ec2ddf2-4436-4f41-c515-71c5852a2559"
      },
      "execution_count": 24,
      "outputs": [
        {
          "output_type": "stream",
          "name": "stdout",
          "text": [
            "\n",
            "Масив розміром 5x5 з випадковими цілими числами від 1 до 10:\n",
            "[[ 8 10  6 10  1]\n",
            " [ 2  1  3  3  9]\n",
            " [ 4  1  9 10  9]\n",
            " [ 6 10  5  3  6]\n",
            " [ 6  6  7  4  7]]\n"
          ]
        }
      ]
    },
    {
      "cell_type": "code",
      "source": [
        "#Масив розміром 4x4 з випадковими дійсними числами від 0 до 1:\n",
        "array4 = np.random.rand(4, 4)\n",
        "print(\"\\nМасив розміром 4x4 з випадковими дійсними числами від 0 до 1:\")\n",
        "print(array4)"
      ],
      "metadata": {
        "id": "6ZCaS12E1YqL",
        "colab": {
          "base_uri": "https://localhost:8080/"
        },
        "outputId": "fd90b79f-bcbd-40b4-8d9e-81c1ef616f2b"
      },
      "execution_count": 25,
      "outputs": [
        {
          "output_type": "stream",
          "name": "stdout",
          "text": [
            "\n",
            "Масив розміром 4x4 з випадковими дійсними числами від 0 до 1:\n",
            "[[0.21665892 0.76777838 0.56018874 0.34240971]\n",
            " [0.78534527 0.14711314 0.47709066 0.61758152]\n",
            " [0.56940002 0.76775753 0.18985396 0.9153194 ]\n",
            " [0.09354439 0.332845   0.6933361  0.57389851]]\n"
          ]
        }
      ]
    },
    {
      "cell_type": "code",
      "source": [
        "#Поелементні операції з двома одновимірними масивами:\n",
        "array5a = np.random.randint(1, 11, size=5)\n",
        "array5b = np.random.randint(1, 11, size=5)\n",
        "\n",
        "addition = array5a + array5b\n",
        "subtraction = array5a - array5b\n",
        "multiplication = array5a * array5b\n",
        "\n",
        "print(\"\\nПоелементні операції з двома одновимірними масивами.\")\n",
        "print(\"Оригінальні масиви:\")\n",
        "print(\"Масив 1:\", array5a)\n",
        "print(\"Масив 2:\", array5b)\n",
        "print(\"Додавання:\", addition)\n",
        "print(\"Віднімання:\", subtraction)\n",
        "print(\"Множення:\", multiplication)\n"
      ],
      "metadata": {
        "id": "NygjaQKnN1uY",
        "colab": {
          "base_uri": "https://localhost:8080/"
        },
        "outputId": "5cb556fa-fa00-4e86-e1d1-737cfe9eb361"
      },
      "execution_count": 26,
      "outputs": [
        {
          "output_type": "stream",
          "name": "stdout",
          "text": [
            "\n",
            "Поелементні операції з двома одновимірними масивами.\n",
            "Оригінальні масиви:\n",
            "Масив 1: [5 1 3 5 1]\n",
            "Масив 2: [6 6 3 2 3]\n",
            "Додавання: [11  7  6  7  4]\n",
            "Віднімання: [-1 -5  0  3 -2]\n",
            "Множення: [30  6  9 10  3]\n"
          ]
        }
      ]
    },
    {
      "cell_type": "code",
      "source": [
        "#Скалярний добуток двох векторів:\n",
        "vector1 = np.random.randint(1, 11, size=7)\n",
        "vector2 = np.random.randint(1, 11, size=7)\n",
        "dot_product = np.dot(vector1, vector2)\n",
        "print(\"\\nСкалярний добуток двох векторів.\")\n",
        "print(\"Оригінальні вектори:\")\n",
        "print(\"Вектор 1:\", vector1)\n",
        "print(\"Вектор 2:\", vector2)\n",
        "print(\"Результат скалярного добутку:\")\n",
        "print(dot_product)"
      ],
      "metadata": {
        "id": "9A0GFt6zPfXJ",
        "colab": {
          "base_uri": "https://localhost:8080/"
        },
        "outputId": "ce6dbbd8-b810-4df6-ad8d-1230620c44cf"
      },
      "execution_count": 27,
      "outputs": [
        {
          "output_type": "stream",
          "name": "stdout",
          "text": [
            "\n",
            "Скалярний добуток двох векторів.\n",
            "Оригінальні вектори:\n",
            "Вектор 1: [10  5  1  2  1  2 10]\n",
            "Вектор 2: [ 4  1  7  8  9  4 10]\n",
            "Результат скалярного добутку:\n",
            "185\n"
          ]
        }
      ]
    },
    {
      "cell_type": "code",
      "source": [
        "#Перемноження двох матриць розміром 2x2 та 2x3:\n",
        "matrix1 = np.random.randint(1, 11, size=(2, 2))\n",
        "matrix2 = np.random.randint(1, 11, size=(2, 3))\n",
        "result = np.matmul(matrix1, matrix2)\n",
        "print(\"\\nПеремноження двох матриць розміром 2x2 та 2x3.\")\n",
        "print(\"Оригінальні матриці:\")\n",
        "print(\"Матриця 1:\")\n",
        "print(matrix1)\n",
        "print(\"Матриця 2:\")\n",
        "print(matrix2)\n",
        "print(\"Результат множення матриць:\")\n",
        "print(result)"
      ],
      "metadata": {
        "id": "VqgkeifZQmFb",
        "colab": {
          "base_uri": "https://localhost:8080/"
        },
        "outputId": "e0884a70-215a-4c3a-80d6-0753fdc5bb5c"
      },
      "execution_count": 28,
      "outputs": [
        {
          "output_type": "stream",
          "name": "stdout",
          "text": [
            "\n",
            "Перемноження двох матриць розміром 2x2 та 2x3.\n",
            "Оригінальні матриці:\n",
            "Матриця 1:\n",
            "[[6 7]\n",
            " [7 6]]\n",
            "Матриця 2:\n",
            "[[9 3 5]\n",
            " [8 9 6]]\n",
            "Результат множення матриць:\n",
            "[[110  81  72]\n",
            " [111  75  71]]\n"
          ]
        }
      ]
    },
    {
      "cell_type": "code",
      "source": [
        "#Обернена матриця 3x3:\n",
        "matrix3 = np.random.randint(1, 11, size=(3, 3))\n",
        "inverse_matrix = np.linalg.inv(matrix3)\n",
        "print(\"\\nОбернена матриця 3x3.\")\n",
        "print(\"Оригінальна матриця:\")\n",
        "print(matrix3)\n",
        "print(\"Обернена матриця:\")\n",
        "print(inverse_matrix)"
      ],
      "metadata": {
        "id": "R9mZ9o6gUndb",
        "colab": {
          "base_uri": "https://localhost:8080/"
        },
        "outputId": "018362e9-50ef-43ea-9c37-b0d1f4984da3"
      },
      "execution_count": 29,
      "outputs": [
        {
          "output_type": "stream",
          "name": "stdout",
          "text": [
            "\n",
            "Обернена матриця 3x3.\n",
            "Оригінальна матриця:\n",
            "[[1 7 6]\n",
            " [5 9 3]\n",
            " [9 5 3]]\n",
            "Обернена матриця:\n",
            "[[-0.05       -0.0375      0.1375    ]\n",
            " [-0.05        0.2125     -0.1125    ]\n",
            " [ 0.23333333 -0.24166667  0.10833333]]\n"
          ]
        }
      ]
    },
    {
      "cell_type": "code",
      "source": [
        "#Транспонування матриці 4x4:\n",
        "matrix4 = np.random.rand(4, 4)\n",
        "transposed_matrix = np.transpose(matrix4)\n",
        "print(\"\\nТранспонування матриці 4x4.\")\n",
        "print(\"Оригінальна матриця:\")\n",
        "print(matrix4)\n",
        "print(\"Транспонована матриця:\")\n",
        "print(transposed_matrix)"
      ],
      "metadata": {
        "id": "luyU8O3vWBmU",
        "colab": {
          "base_uri": "https://localhost:8080/"
        },
        "outputId": "05fbe0ac-42a0-4bf3-ac19-a462e68dfc95"
      },
      "execution_count": 9,
      "outputs": [
        {
          "output_type": "stream",
          "name": "stdout",
          "text": [
            "\n",
            "Транспонування матриці 4x4.\n",
            "Оригінальна матриця:\n",
            "[[0.08140748 0.3921822  0.79558194 0.50528454]\n",
            " [0.90978244 0.1180848  0.20513826 0.76547601]\n",
            " [0.59286045 0.70660506 0.82813457 0.79019301]\n",
            " [0.20853712 0.41613392 0.90219822 0.1541258 ]]\n",
            "Транспонована матриця:\n",
            "[[0.08140748 0.90978244 0.59286045 0.20853712]\n",
            " [0.3921822  0.1180848  0.70660506 0.41613392]\n",
            " [0.79558194 0.20513826 0.82813457 0.90219822]\n",
            " [0.50528454 0.76547601 0.79019301 0.1541258 ]]\n"
          ]
        }
      ]
    },
    {
      "cell_type": "code",
      "source": [
        "#Перемноження матриці 3x4 на вектор розміром 4:\n",
        "matrix5 = np.random.randint(1, 11, size=(3, 4))\n",
        "vector3 = np.random.randint(1, 11, size=4)\n",
        "\n",
        "result_matrix = np.matmul(matrix5, vector3)\n",
        "print(\"\\nПеремноження матриці 3x4 на вектор розміром 4.\")\n",
        "print(\"Оригінальна матриця:\")\n",
        "print(matrix5)\n",
        "print(\"Оригінальний вектор:\")\n",
        "print(vector3)\n",
        "print(\"Результат множення матриці на вектор:\")\n",
        "print(result_matrix)\n"
      ],
      "metadata": {
        "id": "v9DnksPWAvyE",
        "colab": {
          "base_uri": "https://localhost:8080/"
        },
        "outputId": "9663a70d-38a0-4b1f-c2ef-e31de544160e"
      },
      "execution_count": 10,
      "outputs": [
        {
          "output_type": "stream",
          "name": "stdout",
          "text": [
            "\n",
            "Перемноження матриці 3x4 на вектор розміром 4.\n",
            "Оригінальна матриця:\n",
            "[[ 1  3  5  4]\n",
            " [10  6  2 10]\n",
            " [ 3 10  3  7]]\n",
            "Оригінальний вектор:\n",
            "[6 2 5 8]\n",
            "Результат множення матриці на вектор:\n",
            "[ 69 162 109]\n"
          ]
        }
      ]
    },
    {
      "cell_type": "code",
      "source": [
        "#Перемноження матриці 2x3 на вектор розміром 3:\n",
        "matrix6 = np.random.rand(2, 3)\n",
        "vector4 = np.random.rand(3)\n",
        "\n",
        "result_vector = np.matmul(matrix6, vector4)\n",
        "print(\"\\nПеремноження матриці 2x3 на вектор розміром 3.\")\n",
        "print(\"Оригінальна матриця:\")\n",
        "print(matrix6)\n",
        "print(\"Оригінальний вектор:\")\n",
        "print(vector4)\n",
        "print(\"Результат множення матриці на вектор:\")\n",
        "print(result_vector)\n"
      ],
      "metadata": {
        "id": "KU7egDknBt7F",
        "colab": {
          "base_uri": "https://localhost:8080/"
        },
        "outputId": "6a65f662-c00a-4d15-c426-b6bcae49b82f"
      },
      "execution_count": 11,
      "outputs": [
        {
          "output_type": "stream",
          "name": "stdout",
          "text": [
            "\n",
            "Перемноження матриці 2x3 на вектор розміром 3.\n",
            "Оригінальна матриця:\n",
            "[[0.24661531 0.91080018 0.59884115]\n",
            " [0.12900594 0.21463582 0.57984816]]\n",
            "Оригінальний вектор:\n",
            "[0.70366023 0.20102276 0.55933211]\n",
            "Результат множення матриці на вектор:\n",
            "[0.69157604 0.45825073]\n"
          ]
        }
      ]
    },
    {
      "cell_type": "code",
      "source": [
        "#Поелементне множення двох матриць 2x2:\n",
        "matrix7 = np.random.randint(1, 11, size=(2, 2))\n",
        "matrix8 = np.random.randint(1, 11, size=(2, 2))\n",
        "\n",
        "elementwise_product = np.multiply(matrix7, matrix8)\n",
        "print(\"\\nПоелементне множення двох матриць 2x2.\")\n",
        "print(\"Оригінальні матриці:\")\n",
        "print(\"Матриця 1:\")\n",
        "print(matrix7)\n",
        "print(\"Матриця 2:\")\n",
        "print(matrix8)\n",
        "print(\"Результат поелементного множення:\")\n",
        "print(elementwise_product)"
      ],
      "metadata": {
        "id": "9dHAIr50DH42",
        "colab": {
          "base_uri": "https://localhost:8080/"
        },
        "outputId": "e110ea53-a0c7-418b-a2cf-0e716918fef6"
      },
      "execution_count": 12,
      "outputs": [
        {
          "output_type": "stream",
          "name": "stdout",
          "text": [
            "\n",
            "Поелементне множення двох матриць 2x2.\n",
            "Оригінальні матриці:\n",
            "Матриця 1:\n",
            "[[10  6]\n",
            " [ 7  9]]\n",
            "Матриця 2:\n",
            "[[ 1  9]\n",
            " [10  2]]\n",
            "Результат поелементного множення:\n",
            "[[10 54]\n",
            " [70 18]]\n"
          ]
        }
      ]
    },
    {
      "cell_type": "code",
      "source": [
        "#Знаходження добутку двох матриць 2x2:\n",
        "matrix9 = np.random.randint(1, 11, size=(2, 2))\n",
        "matrix10 = np.random.randint(1, 11, size=(2, 2))\n",
        "matrix_product = np.matmul(matrix9, matrix10)\n",
        "print(\"\\nЗнаходження добутку двох матриць 2x2.\")\n",
        "print(\"Оригінальні матриці:\")\n",
        "print(\"Матриця 1:\")\n",
        "print(matrix9)\n",
        "print(\"Матриця 2:\")\n",
        "print(matrix10)\n",
        "print(\"Результат множення матриць:\")\n",
        "print(matrix_product)\n"
      ],
      "metadata": {
        "id": "FUQMMlduDlrd",
        "colab": {
          "base_uri": "https://localhost:8080/"
        },
        "outputId": "75bff4cf-d723-4259-a211-381b8ab45021"
      },
      "execution_count": 13,
      "outputs": [
        {
          "output_type": "stream",
          "name": "stdout",
          "text": [
            "\n",
            "Знаходження добутку двох матриць 2x2.\n",
            "Оригінальні матриці:\n",
            "Матриця 1:\n",
            "[[5 5]\n",
            " [5 3]]\n",
            "Матриця 2:\n",
            "[[1 4]\n",
            " [6 4]]\n",
            "Результат множення матриць:\n",
            "[[35 40]\n",
            " [23 32]]\n"
          ]
        }
      ]
    },
    {
      "cell_type": "code",
      "source": [
        "#Знаходження суми елементів матриці 5x5:\n",
        "matrix11 = np.random.randint(1, 101, size=(5, 5))\n",
        "sum_elements = np.sum(matrix11)\n",
        "print(\"\\nЗнаходження суми елементів матриці 5x5.\")\n",
        "print(\"Оригінальна матриця:\")\n",
        "print(matrix11)\n",
        "print(\"Сума елементів матриці:\")\n",
        "print(sum_elements)"
      ],
      "metadata": {
        "id": "GwYJArCHEDtw",
        "colab": {
          "base_uri": "https://localhost:8080/"
        },
        "outputId": "b602c4f8-1455-474b-ca7f-12c92a9ea8ea"
      },
      "execution_count": 14,
      "outputs": [
        {
          "output_type": "stream",
          "name": "stdout",
          "text": [
            "\n",
            "Знаходження суми елементів матриці 5x5.\n",
            "Оригінальна матриця:\n",
            "[[ 3  3 44 56 47]\n",
            " [84 54 91 18 89]\n",
            " [44 70  4 44 31]\n",
            " [42 58 94 16 97]\n",
            " [54 10 20 49 67]]\n",
            "Сума елементів матриці:\n",
            "1189\n"
          ]
        }
      ]
    },
    {
      "cell_type": "code",
      "source": [
        "#Знаходження різниці двох матриць 4x4:\n",
        "matrix12 = np.random.randint(1, 11, size=(4, 4))\n",
        "matrix13 = np.random.randint(1, 11, size=(4, 4))\n",
        "\n",
        "difference_matrix = np.subtract(matrix12, matrix13)\n",
        "print(\"\\nЗнаходження різниці двох матриць 4x4.\")\n",
        "print(\"Оригінальні матриці:\")\n",
        "print(\"Матриця 1:\")\n",
        "print(matrix12)\n",
        "print(\"Матриця 2:\")\n",
        "print(matrix13)\n",
        "print(\"Різниця матриць:\")\n",
        "print(difference_matrix)"
      ],
      "metadata": {
        "id": "2UYFV46jESHi",
        "colab": {
          "base_uri": "https://localhost:8080/"
        },
        "outputId": "439cab60-a49c-4d95-a9e4-cd16d786726e"
      },
      "execution_count": 15,
      "outputs": [
        {
          "output_type": "stream",
          "name": "stdout",
          "text": [
            "\n",
            "Знаходження різниці двох матриць 4x4.\n",
            "Оригінальні матриці:\n",
            "Матриця 1:\n",
            "[[ 6  2  3 10]\n",
            " [ 3  1  2  4]\n",
            " [ 8  5  9  1]\n",
            " [ 6  6  7  1]]\n",
            "Матриця 2:\n",
            "[[ 3  8  6  7]\n",
            " [ 3  8  9  4]\n",
            " [ 8 10  7  6]\n",
            " [ 5  9  4  3]]\n",
            "Різниця матриць:\n",
            "[[ 3 -6 -3  3]\n",
            " [ 0 -7 -7  0]\n",
            " [ 0 -5  2 -5]\n",
            " [ 1 -3  3 -2]]\n"
          ]
        }
      ]
    },
    {
      "cell_type": "code",
      "source": [
        "#Знаходження вектор-стовпчика із сум елементів кожного рядка матриці 3x3:\n",
        "matrix14 = np.random.rand(3, 3)\n",
        "row_sums = np.sum(matrix14, axis=1)\n",
        "column_vector = row_sums.reshape(-1, 1)\n",
        "print(\"\\nЗнаходження вектор-стовпчика із сум елементів кожного рядка матриці 3x3.\")\n",
        "print(\"Оригінальна матриця:\")\n",
        "print(matrix14)\n",
        "print(\"Вектор-стовпчик з сумами рядків:\")\n",
        "print(column_vector)"
      ],
      "metadata": {
        "id": "PtYCwdqnEcTs",
        "colab": {
          "base_uri": "https://localhost:8080/"
        },
        "outputId": "8947b4ca-dd3e-4685-afc8-7caebc8969b4"
      },
      "execution_count": 16,
      "outputs": [
        {
          "output_type": "stream",
          "name": "stdout",
          "text": [
            "\n",
            "Знаходження вектор-стовпчика із сум елементів кожного рядка матриці 3x3.\n",
            "Оригінальна матриця:\n",
            "[[0.46969094 0.02223009 0.57511152]\n",
            " [0.47709114 0.84553098 0.32949178]\n",
            " [0.49717653 0.60793562 0.7866986 ]]\n",
            "Вектор-стовпчик з сумами рядків:\n",
            "[[1.06703255]\n",
            " [1.6521139 ]\n",
            " [1.89181075]]\n"
          ]
        }
      ]
    },
    {
      "cell_type": "code",
      "source": [
        "#Створення матриці з квадратами чисел у матриці 3x4:\n",
        "matrix15 = np.random.randint(1, 11, size=(3, 4))\n",
        "squared_matrix = np.square(matrix15)\n",
        "print(\"\\nСтворення матриці з квадратами чисел у матриці 3x4.\")\n",
        "print(\"Оригінальна матриця:\")\n",
        "print(matrix15)\n",
        "print(\"Матриця з квадратами чисел:\")\n",
        "print(squared_matrix)"
      ],
      "metadata": {
        "id": "R05UqVfInIlx",
        "colab": {
          "base_uri": "https://localhost:8080/"
        },
        "outputId": "b9b9b990-7e47-4dfa-91ce-64a01cc4e448"
      },
      "execution_count": 17,
      "outputs": [
        {
          "output_type": "stream",
          "name": "stdout",
          "text": [
            "\n",
            "Створення матриці з квадратами чисел у матриці 3x4.\n",
            "Оригінальна матриця:\n",
            "[[3 6 2 1]\n",
            " [1 2 2 3]\n",
            " [4 1 1 6]]\n",
            "Матриця з квадратами чисел:\n",
            "[[ 9 36  4  1]\n",
            " [ 1  4  4  9]\n",
            " [16  1  1 36]]\n"
          ]
        }
      ]
    },
    {
      "cell_type": "code",
      "source": [
        "#Створення вектора з квадратними коренями чисел у векторі розміром 4:\n",
        "vector5 = np.random.randint(1, 51, size=4)\n",
        "sqrt_vector = np.sqrt(vector5)\n",
        "print(\"\\nСтворення вектора з квадратними коренями чисел у векторі розміром 4.\")\n",
        "print(\"Оригінальний вектор:\")\n",
        "print(vector5)\n",
        "print(\"Вектор з квадратними коренями чисел:\")\n",
        "print(sqrt_vector)"
      ],
      "metadata": {
        "id": "TX4XHAHwnXnP",
        "colab": {
          "base_uri": "https://localhost:8080/"
        },
        "outputId": "9667b435-92ed-48de-966b-9d67e9cfb01d"
      },
      "execution_count": 21,
      "outputs": [
        {
          "output_type": "stream",
          "name": "stdout",
          "text": [
            "\n",
            "Створення вектора з квадратними коренями чисел у векторі розміром 4.\n",
            "Оригінальний вектор:\n",
            "[ 5 50  3 39]\n",
            "Вектор з квадратними коренями чисел:\n",
            "[2.23606798 7.07106781 1.73205081 6.244998  ]\n"
          ]
        }
      ]
    }
  ]
}